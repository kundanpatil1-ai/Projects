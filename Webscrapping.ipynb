{
 "cells": [
  {
   "cell_type": "code",
   "execution_count": 1,
   "metadata": {},
   "outputs": [],
   "source": [
    "import pandas as pd\n",
    "import requests\n",
    "import pymongo\n",
    "from bs4 import BeautifulSoup"
   ]
  },
  {
   "cell_type": "code",
   "execution_count": 2,
   "metadata": {},
   "outputs": [
    {
     "name": "stdout",
     "output_type": "stream",
     "text": [
      "sraped\n"
     ]
    }
   ],
   "source": [
    "\n",
    "def scrape_player():\n",
    "    more_links = True\n",
    "    page = 1\n",
    "    stats = []\n",
    "    \n",
    "    markup = requests.get('https://www.iplt20.com/stats/2021/most-runs').text\n",
    "    soup = BeautifulSoup(markup, 'html.parser')\n",
    "\n",
    "\n",
    "\n",
    "    for row in soup.select('.top-players__player-info'):\n",
    "        stat1={}\n",
    "        stat1['PLAYER'] = row.select_one('.top-players__player-name').get_text()\n",
    "        #stat1['Runs'] = row.select_one('.top-players__r').get_int() \n",
    "        stats.append(stat1)\n",
    "    return stats\n",
    "stats=scrape_player()\n",
    "print(\"sraped\")"
   ]
  },
  {
   "cell_type": "code",
   "execution_count": 3,
   "metadata": {},
   "outputs": [
    {
     "name": "stdout",
     "output_type": "stream",
     "text": [
      "inserted 100 \n"
     ]
    }
   ],
   "source": [
    "client = pymongo.MongoClient(\"mongodb://localhost:27017/?readPreference=primary&appname=MongoDB%20Compass&directConnection=true&ssl=false\")   \n",
    "db = client.db.stats\n",
    "try:\n",
    "    db.insert_many(stats)\n",
    "    print(f'inserted {len(stats)} ') \n",
    "except:\n",
    "    print('an error occurred data were not stored to db')"
   ]
  },
  {
   "cell_type": "code",
   "execution_count": null,
   "metadata": {},
   "outputs": [],
   "source": []
  }
 ],
 "metadata": {
  "kernelspec": {
   "display_name": "Python 3",
   "language": "python",
   "name": "python3"
  },
  "language_info": {
   "codemirror_mode": {
    "name": "ipython",
    "version": 3
   },
   "file_extension": ".py",
   "mimetype": "text/x-python",
   "name": "python",
   "nbconvert_exporter": "python",
   "pygments_lexer": "ipython3",
   "version": "3.8.10"
  }
 },
 "nbformat": 4,
 "nbformat_minor": 4
}
