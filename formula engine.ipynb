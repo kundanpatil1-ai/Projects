{
 "cells": [
  {
   "cell_type": "code",
   "execution_count": 1,
   "metadata": {},
   "outputs": [
    {
     "name": "stdout",
     "output_type": "stream",
     "text": [
      "please enter formula of Area of circle:\n",
      "pi*r**2\n",
      "enter value of pi 3.14\n",
      "enter value of Radius 5\n",
      "Radius: 5.0\n",
      "78.5\n"
     ]
    }
   ],
   "source": [
    "import parser\n",
    "\n",
    "formula1 = input('please enter formula of Area of circle:\\n')\n",
    "code2 = parser.expr(formula1).compile()\n",
    "pi = float(input('enter value of pi '))\n",
    "r =  float(input('enter value of Radius '))\n",
    "\n",
    "print('Radius:',r)\n",
    "print(eval(code2))\n"
   ]
  },
  {
   "cell_type": "code",
   "execution_count": 4,
   "metadata": {},
   "outputs": [
    {
     "name": "stdout",
     "output_type": "stream",
     "text": [
      "please enter formula of Circumference of circle:\n",
      "2*pi*r\n",
      "enter value of pi 3.14\n",
      "enter value of Radius 4\n",
      "Radius: 4\n",
      "25.12\n"
     ]
    }
   ],
   "source": [
    "import parser\n",
    "\n",
    "formula2 = input('please enter formula of Circumference of circle:\\n')\n",
    "code2 = parser.expr(formula2).compile()\n",
    "pi = float(input('enter value of pi '))\n",
    "r = int(input('enter value of Radius '))\n",
    "\n",
    "print('Radius:',r)\n",
    "print(eval(code2))\n"
   ]
  },
  {
   "cell_type": "code",
   "execution_count": 5,
   "metadata": {},
   "outputs": [
    {
     "name": "stdout",
     "output_type": "stream",
     "text": [
      "-54.40211108893698\n"
     ]
    }
   ],
   "source": [
    "import parser\n",
    "from math import sin\n",
    "\n",
    "formula = \"sin(x)*x**2\"\n",
    "code = parser.expr(formula).compile()\n",
    "x = 10\n",
    "print(eval(code))"
   ]
  },
  {
   "cell_type": "code",
   "execution_count": 6,
   "metadata": {},
   "outputs": [
    {
     "name": "stdout",
     "output_type": "stream",
     "text": [
      "60\n"
     ]
    }
   ],
   "source": [
    "import parser\n",
    "from math import sin\n",
    "formula2 = \"x+y+z\"\n",
    "code2 = parser.expr(formula2).compile()\n",
    "x = 10\n",
    "y = 20\n",
    "z = 30\n",
    "print(eval(code2))"
   ]
  },
  {
   "cell_type": "code",
   "execution_count": 7,
   "metadata": {},
   "outputs": [
    {
     "name": "stdout",
     "output_type": "stream",
     "text": [
      "please enter formula:\n",
      " x*y-z\n",
      "enter value of x 14\n",
      "enter value of y 54\n",
      "enter value of z 65\n",
      "x*y-z\n",
      "value of x: 14 value of y: 54 value of z: 65\n",
      "691\n"
     ]
    }
   ],
   "source": [
    "import parser\n",
    "formula2 = input('please enter formula:\\n ')\n",
    "code2 = parser.expr(formula2).compile()\n",
    "x = int(input('enter value of x '))\n",
    "y = int(input('enter value of y '))\n",
    "z = int(input('enter value of z '))\n",
    "print(formula2)\n",
    "print('value of x:',x,'value of y:',y,'value of z:',z)\n",
    "print(eval(code2))\n"
   ]
  }
 ],
 "metadata": {
  "kernelspec": {
   "display_name": "Python 3",
   "language": "python",
   "name": "python3"
  },
  "language_info": {
   "codemirror_mode": {
    "name": "ipython",
    "version": 3
   },
   "file_extension": ".py",
   "mimetype": "text/x-python",
   "name": "python",
   "nbconvert_exporter": "python",
   "pygments_lexer": "ipython3",
   "version": "3.8.10"
  }
 },
 "nbformat": 4,
 "nbformat_minor": 4
}
